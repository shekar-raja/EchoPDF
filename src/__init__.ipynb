{
 "cells": [
  {
   "cell_type": "markdown",
   "metadata": {},
   "source": [
    "## EchoPDF\n",
    "\n",
    "EchoPDF is a Retrieval-Augmented Generation (RAG) tool that enables users to upload any PDF document, ask questions about its content, and receive tailored, contextually accurate answers. Designed to enhance document accessibility, EchoPDF combines NLP and deep learning to extract and retrieve specific information, providing quick and insightful responses directly from uploaded PDFs.\n"
   ]
  },
  {
   "cell_type": "code",
   "execution_count": 34,
   "metadata": {},
   "outputs": [],
   "source": [
    "import os\n",
    "import requests\n",
    "from dotenv import load_dotenv\n",
    "import helper_functions"
   ]
  },
  {
   "cell_type": "code",
   "execution_count": 30,
   "metadata": {},
   "outputs": [
    {
     "name": "stdout",
     "output_type": "stream",
     "text": [
      "[INFO]: File doesn't exist\n",
      "[INFO]: File has been downloaded and saved as ../human_nutrition.pdf\n"
     ]
    }
   ],
   "source": [
    "load_dotenv()\n",
    "\n",
    "# Path to pdf\n",
    "pdf_path = \"../human_nutrition.pdf\"\n",
    "\n",
    "# Import the pdf\n",
    "if not os.path.exists(pdf_path):\n",
    "    print(f\"[INFO]: File doesn't exist\")\n",
    "    file_name = pdf_path\n",
    "\n",
    "    url = os.getenv(\"pdf_url\")\n",
    "    \n",
    "    response = requests.get(url)\n",
    "\n",
    "    # Check if request was successful\n",
    "    if response.status_code == 200:\n",
    "        # Open the file and save it\n",
    "        with open(file_name, \"wb\") as file:\n",
    "            file.write(response.content)\n",
    "        print(f\"[INFO]: File has been downloaded and saved as {file_name}\")\n",
    "    else:\n",
    "        print(f\"[INFO]: Failed to download the file. Status code: {response.status_code}\")\n",
    "else:\n",
    "    print(f\"[INFO]: File already exists.\")\n"
   ]
  },
  {
   "cell_type": "code",
   "execution_count": 46,
   "metadata": {},
   "outputs": [
    {
     "name": "stdout",
     "output_type": "stream",
     "text": [
      "hello world\n"
     ]
    }
   ],
   "source": [
    "# Let's open the pdf and read it's content\n",
    "import fitz\n",
    "from tqdm.auto import tqdm\n"
   ]
  }
 ],
 "metadata": {
  "kernelspec": {
   "display_name": "echopdf",
   "language": "python",
   "name": "python3"
  },
  "language_info": {
   "codemirror_mode": {
    "name": "ipython",
    "version": 3
   },
   "file_extension": ".py",
   "mimetype": "text/x-python",
   "name": "python",
   "nbconvert_exporter": "python",
   "pygments_lexer": "ipython3",
   "version": "3.8.20"
  }
 },
 "nbformat": 4,
 "nbformat_minor": 2
}
